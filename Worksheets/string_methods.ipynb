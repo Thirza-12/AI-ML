{
 "cells": [
  {
   "cell_type": "code",
   "execution_count": null,
   "id": "26872000",
   "metadata": {},
   "outputs": [],
   "source": [
    "Panda.series.string method?\n",
    "\n",
    "str.lower()\n",
    "\n",
    "import pandas as pd\n",
    "import numpy as np\n",
    "technologies= ({\n",
    "    'Courses':[\"SPARK\",\"PYSPARK\",\"HADOOP\",\"PANDAS\"],\n",
    "    'Fee' :['22000','25000','24000','26000'],\n",
    "    'Duration':['30days','50days','40days','60days'],\n",
    "    'Discount':['1000','2300','2500','1400']\n",
    "              })\n",
    "df = pd.DataFrame(technologies)\n",
    "print(df)\n",
    "\n",
    "# convert lowercase column use str.lower()\n",
    "df['Courses'] = df['Courses'].str.lower()\n",
    "print(df)\n",
    "\n",
    "# convert lowercase column use apply()\n",
    "df['Courses'] = df['Courses'].apply(str.lower)\n",
    "print(df)\n",
    "\n",
    "# Use apply() & lambda function\n",
    "df['Courses'].apply(lambda x: x.lower())\n",
    "print(df)\n",
    "\n",
    "# Convert pandas column to lowercase use map()\n",
    "df['Courses'] = df['Courses'].map(str.lower)\n",
    "print(df)\n",
    "\n",
    "====================================\n",
    "str.upper()\n",
    "======================================\n",
    "str.length()\n",
    "\n",
    "import pandas as pd\n",
    "\n",
    "data = pd.DataFrame({\n",
    "\n",
    "    'age' : [15, 17, 20, 14, 25],\n",
    "\n",
    "    'name': [\"Sample\", \"New User\", \"My Name\", \"Jane Doe\", \"John Doe\"]\n",
    "\n",
    "})\n",
    "\n",
    "data['name'].str.len()\n",
    "\n",
    "You'll get the following output:\n",
    "\n",
    "0    6\n",
    "\n",
    "1    8\n",
    "\n",
    "2    7\n",
    "\n",
    "3    8\n",
    "\n",
    "4    8\n",
    "\n",
    "Name: name, dtype: int64\n",
    "========================================\n",
    "str.strip()\n",
    "\n",
    "import numpy as np\n",
    "import pandas as pd\n",
    "s = pd.Series(['1. Bat.  ', '2. Dog!\\n', '3. fox?\\t', np.nan])\n",
    "s.str.strip()\n",
    "\n",
    "str.lstrp()\n",
    "\n",
    "str.rstrp()\n",
    "============================================\n",
    "str.split()\n",
    "\n",
    "import numpy as np\n",
    "import pandas as pd\n",
    "s = pd.Series([\"this is my new pen\",\n",
    "               \"https://www.w3resource.com/pandas/index.php\",\n",
    "               np.nan])\n",
    "s.str.split()\t\t\n",
    "\n",
    "==============================================\n",
    "\n",
    "str.contains()\n",
    "======================================\n",
    "\n",
    "str.replace()\n",
    "====================================\n",
    "str.startswith()\n",
    "====================================\n",
    "str.endswith()\n",
    "======================================\n",
    "str.cat()\n",
    "===================================\n",
    "str.get()\n",
    "==================================\n",
    "str.slice()\n",
    "===============================\n",
    "str.find()\n",
    "===============================\n",
    "\n",
    "\n",
    "\n",
    "\n",
    "\n"
   ]
  },
  {
   "cell_type": "markdown",
   "id": "9532a55e",
   "metadata": {},
   "source": [
    "# String upper ()"
   ]
  },
  {
   "cell_type": "code",
   "execution_count": 3,
   "id": "18616102",
   "metadata": {},
   "outputs": [
    {
     "name": "stdout",
     "output_type": "stream",
     "text": [
      "   Courses    Fee Duration Discount\n",
      "0    SPARK  22000   30days     1000\n",
      "1  PYSPARK  25000   50days     2300\n",
      "2   HADOOP  24000   40days     2500\n",
      "3   PANDAS  26000   60days     1400\n"
     ]
    }
   ],
   "source": [
    "import pandas as pd\n",
    "import numpy as np\n",
    "technologies= ({\n",
    "    'Courses':[\"SPARK\",\"PYSPARK\",\"HADOOP\",\"PANDAS\"],\n",
    "    'Fee' :['22000','25000','24000','26000'],\n",
    "    'Duration':['30days','50days','40days','60days'],\n",
    "    'Discount':['1000','2300','2500','1400']\n",
    "              })\n",
    "df = pd.DataFrame(technologies)\n",
    "df['Courses'] = df['Courses'].str.upper()\n",
    "print(df)\n"
   ]
  },
  {
   "cell_type": "markdown",
   "id": "df1e487b",
   "metadata": {},
   "source": [
    "# String len ()"
   ]
  },
  {
   "cell_type": "code",
   "execution_count": 4,
   "id": "b8ab604f",
   "metadata": {},
   "outputs": [
    {
     "data": {
      "text/plain": [
       "0    6\n",
       "1    8\n",
       "2    7\n",
       "3    8\n",
       "4    8\n",
       "Name: name, dtype: int64"
      ]
     },
     "execution_count": 4,
     "metadata": {},
     "output_type": "execute_result"
    }
   ],
   "source": [
    "import pandas as pd\n",
    "\n",
    "data = pd.DataFrame({\n",
    "\n",
    "    'age' : [15, 17, 20, 14, 25],\n",
    "\n",
    "    'name': [\"Sample\", \"New User\", \"My Name\", \"Jane Doe\", \"John Doe\"]\n",
    "\n",
    "})\n",
    "\n",
    "data['name'].str.len()"
   ]
  },
  {
   "cell_type": "markdown",
   "id": "2b877329",
   "metadata": {},
   "source": [
    "# String lower()"
   ]
  },
  {
   "cell_type": "code",
   "execution_count": 5,
   "id": "4a41a4c0",
   "metadata": {},
   "outputs": [
    {
     "name": "stdout",
     "output_type": "stream",
     "text": [
      "   Courses    Fee Duration Discount\n",
      "0    spark  22000   30days     1000\n",
      "1  pyspark  25000   50days     2300\n",
      "2   hadoop  24000   40days     2500\n",
      "3   pandas  26000   60days     1400\n"
     ]
    }
   ],
   "source": [
    "df['Courses'] = df['Courses'].str.lower()\n",
    "print(df)"
   ]
  },
  {
   "cell_type": "markdown",
   "id": "32a0d633",
   "metadata": {},
   "source": [
    "# lambda function"
   ]
  },
  {
   "cell_type": "code",
   "execution_count": 6,
   "id": "fafa48ba",
   "metadata": {},
   "outputs": [
    {
     "name": "stdout",
     "output_type": "stream",
     "text": [
      "   Courses    Fee Duration Discount\n",
      "0    spark  22000   30days     1000\n",
      "1  pyspark  25000   50days     2300\n",
      "2   hadoop  24000   40days     2500\n",
      "3   pandas  26000   60days     1400\n"
     ]
    }
   ],
   "source": [
    "# Use apply() & lambda function\n",
    "df['Courses'].apply(lambda x: x.lower())\n",
    "print(df)"
   ]
  },
  {
   "cell_type": "markdown",
   "id": "d9da1463",
   "metadata": {},
   "source": [
    "# Convert pandas column to lowercase use map()"
   ]
  },
  {
   "cell_type": "code",
   "execution_count": 7,
   "id": "2e9d2f79",
   "metadata": {},
   "outputs": [
    {
     "name": "stdout",
     "output_type": "stream",
     "text": [
      "   Courses    Fee Duration Discount\n",
      "0    spark  22000   30days     1000\n",
      "1  pyspark  25000   50days     2300\n",
      "2   hadoop  24000   40days     2500\n",
      "3   pandas  26000   60days     1400\n"
     ]
    }
   ],
   "source": [
    "# Convert pandas column to lowercase use map()\n",
    "df['Courses'] = df['Courses'].map(str.lower)\n",
    "print(df)"
   ]
  },
  {
   "cell_type": "markdown",
   "id": "c44204b0",
   "metadata": {},
   "source": [
    "# str.strip ()"
   ]
  },
  {
   "cell_type": "code",
   "execution_count": 9,
   "id": "4d5818dc",
   "metadata": {},
   "outputs": [
    {
     "data": {
      "text/plain": [
       "0    1. Bat.\n",
       "1    2. Dog!\n",
       "2    3. fox?\n",
       "3        NaN\n",
       "dtype: object"
      ]
     },
     "execution_count": 9,
     "metadata": {},
     "output_type": "execute_result"
    }
   ],
   "source": [
    "import numpy as np\n",
    "import pandas as pd\n",
    "s = pd.Series(['1. Bat.  ', '2. Dog!\\n', '3. fox?\\t', np.nan])\n",
    "s.str.strip()"
   ]
  },
  {
   "cell_type": "markdown",
   "id": "2d4bb500",
   "metadata": {},
   "source": [
    "# str.lstrip()"
   ]
  },
  {
   "cell_type": "code",
   "execution_count": 12,
   "id": "9af45c00",
   "metadata": {},
   "outputs": [
    {
     "data": {
      "text/plain": [
       "0    1. Bat.  \n",
       "1    2. Dog!\\n\n",
       "2    3. fox?\\t\n",
       "3          NaN\n",
       "dtype: object"
      ]
     },
     "execution_count": 12,
     "metadata": {},
     "output_type": "execute_result"
    }
   ],
   "source": [
    "s.str.lstrip()"
   ]
  },
  {
   "cell_type": "markdown",
   "id": "9c6654e7",
   "metadata": {},
   "source": [
    "# str.split ()"
   ]
  },
  {
   "cell_type": "code",
   "execution_count": 13,
   "id": "40040b7c",
   "metadata": {},
   "outputs": [
    {
     "data": {
      "text/plain": [
       "0                         [this, is, my, new, pen]\n",
       "1    [https://www.w3resource.com/pandas/index.php]\n",
       "2                                              NaN\n",
       "dtype: object"
      ]
     },
     "execution_count": 13,
     "metadata": {},
     "output_type": "execute_result"
    }
   ],
   "source": [
    "import numpy as np\n",
    "import pandas as pd\n",
    "s = pd.Series([\"this is my new pen\",\n",
    "               \"https://www.w3resource.com/pandas/index.php\",\n",
    "               np.nan])\n",
    "s.str.split()"
   ]
  },
  {
   "cell_type": "markdown",
   "id": "47017d91",
   "metadata": {},
   "source": [
    "# str.rstrp()"
   ]
  },
  {
   "cell_type": "code",
   "execution_count": 14,
   "id": "9816e33b",
   "metadata": {},
   "outputs": [
    {
     "data": {
      "text/plain": [
       "0                             this is my new pen\n",
       "1    https://www.w3resource.com/pandas/index.php\n",
       "2                                            NaN\n",
       "dtype: object"
      ]
     },
     "execution_count": 14,
     "metadata": {},
     "output_type": "execute_result"
    }
   ],
   "source": [
    "s.str.rstrip()"
   ]
  },
  {
   "cell_type": "markdown",
   "id": "7db2c50c",
   "metadata": {},
   "source": [
    "# str.contains()"
   ]
  },
  {
   "cell_type": "code",
   "execution_count": 18,
   "id": "3a849d31",
   "metadata": {},
   "outputs": [
    {
     "data": {
      "text/plain": [
       "0    True\n",
       "1    True\n",
       "2     NaN\n",
       "dtype: object"
      ]
     },
     "execution_count": 18,
     "metadata": {},
     "output_type": "execute_result"
    }
   ],
   "source": [
    "s.str.contains('e')"
   ]
  },
  {
   "cell_type": "markdown",
   "id": "ab6069f3",
   "metadata": {},
   "source": [
    "# str.replace()"
   ]
  },
  {
   "cell_type": "code",
   "execution_count": 20,
   "id": "7103a6bb",
   "metadata": {},
   "outputs": [
    {
     "name": "stderr",
     "output_type": "stream",
     "text": [
      "C:\\Users\\thirz\\AppData\\Local\\Temp\\ipykernel_5804\\2070102435.py:1: FutureWarning: The default value of regex will change from True to False in a future version. In addition, single character regular expressions will *not* be treated as literal strings when regex=True.\n",
      "  s.str.replace('.','?')\n"
     ]
    },
    {
     "data": {
      "text/plain": [
       "0                             this is my new pen\n",
       "1    https://www?w3resource?com/pandas/index?php\n",
       "2                                            NaN\n",
       "dtype: object"
      ]
     },
     "execution_count": 20,
     "metadata": {},
     "output_type": "execute_result"
    }
   ],
   "source": [
    "s.str.replace('.','?')"
   ]
  },
  {
   "cell_type": "markdown",
   "id": "9ad32276",
   "metadata": {},
   "source": [
    "# str.startswith()"
   ]
  },
  {
   "cell_type": "code",
   "execution_count": 22,
   "id": "cfd5b64a",
   "metadata": {},
   "outputs": [
    {
     "data": {
      "text/plain": [
       "0     True\n",
       "1    False\n",
       "2      NaN\n",
       "dtype: object"
      ]
     },
     "execution_count": 22,
     "metadata": {},
     "output_type": "execute_result"
    }
   ],
   "source": [
    "s.str.startswith('t')"
   ]
  },
  {
   "cell_type": "markdown",
   "id": "d9d14bec",
   "metadata": {},
   "source": [
    "# str.endswith()"
   ]
  },
  {
   "cell_type": "code",
   "execution_count": 23,
   "id": "9aa7db77",
   "metadata": {},
   "outputs": [
    {
     "data": {
      "text/plain": [
       "0     True\n",
       "1    False\n",
       "2      NaN\n",
       "dtype: object"
      ]
     },
     "execution_count": 23,
     "metadata": {},
     "output_type": "execute_result"
    }
   ],
   "source": [
    "s.str.endswith('n')"
   ]
  },
  {
   "cell_type": "markdown",
   "id": "9b59a976",
   "metadata": {},
   "source": [
    "# str.cat()"
   ]
  },
  {
   "cell_type": "code",
   "execution_count": 24,
   "id": "e2594cee",
   "metadata": {},
   "outputs": [
    {
     "data": {
      "text/plain": [
       "'this is my new penhttps://www.w3resource.com/pandas/index.php'"
      ]
     },
     "execution_count": 24,
     "metadata": {},
     "output_type": "execute_result"
    }
   ],
   "source": [
    "s.str.cat()"
   ]
  },
  {
   "cell_type": "markdown",
   "id": "3e44c45f",
   "metadata": {},
   "source": [
    "# str.get()"
   ]
  },
  {
   "cell_type": "code",
   "execution_count": 34,
   "id": "5f05c99a",
   "metadata": {},
   "outputs": [
    {
     "data": {
      "text/plain": [
       "0   NaN\n",
       "1   NaN\n",
       "2   NaN\n",
       "dtype: float64"
      ]
     },
     "execution_count": 34,
     "metadata": {},
     "output_type": "execute_result"
    }
   ],
   "source": [
    "s.str.get('3')"
   ]
  },
  {
   "cell_type": "markdown",
   "id": "b6f28526",
   "metadata": {},
   "source": [
    "# str.slice ()"
   ]
  },
  {
   "cell_type": "code",
   "execution_count": 35,
   "id": "16b2d4d5",
   "metadata": {},
   "outputs": [
    {
     "data": {
      "text/plain": [
       "0                             this is my new pen\n",
       "1    https://www.w3resource.com/pandas/index.php\n",
       "2                                            NaN\n",
       "dtype: object"
      ]
     },
     "execution_count": 35,
     "metadata": {},
     "output_type": "execute_result"
    }
   ],
   "source": [
    "s.str.slice()"
   ]
  },
  {
   "cell_type": "markdown",
   "id": "e0ba24ab",
   "metadata": {},
   "source": [
    "# str.find()"
   ]
  },
  {
   "cell_type": "code",
   "execution_count": 38,
   "id": "129dc94b",
   "metadata": {},
   "outputs": [
    {
     "data": {
      "text/plain": [
       "0    12.0\n",
       "1    15.0\n",
       "2     NaN\n",
       "dtype: float64"
      ]
     },
     "execution_count": 38,
     "metadata": {},
     "output_type": "execute_result"
    }
   ],
   "source": [
    "s.str.find('e')"
   ]
  },
  {
   "cell_type": "code",
   "execution_count": null,
   "id": "e8ecd000",
   "metadata": {},
   "outputs": [],
   "source": []
  }
 ],
 "metadata": {
  "kernelspec": {
   "display_name": "Python 3 (ipykernel)",
   "language": "python",
   "name": "python3"
  },
  "language_info": {
   "codemirror_mode": {
    "name": "ipython",
    "version": 3
   },
   "file_extension": ".py",
   "mimetype": "text/x-python",
   "name": "python",
   "nbconvert_exporter": "python",
   "pygments_lexer": "ipython3",
   "version": "3.9.12"
  }
 },
 "nbformat": 4,
 "nbformat_minor": 5
}
